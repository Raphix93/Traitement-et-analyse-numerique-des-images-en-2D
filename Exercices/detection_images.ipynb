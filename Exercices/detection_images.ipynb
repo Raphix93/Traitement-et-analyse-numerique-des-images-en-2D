{
 "cells": [
  {
   "cell_type": "code",
   "execution_count": null,
   "id": "930f63fd",
   "metadata": {},
   "outputs": [],
   "source": [
    "# Travailler sur Google Colab\n",
    "from google.colab import drive\n",
    "import os\n",
    "import numpy as np\n",
    "import tensorflow as tf\n",
    "import cv2\n",
    "import shutil\n",
    "import matplotlib.pyplot as plt\n",
    "import requests\n",
    "import pandas as pd"
   ]
  },
  {
   "cell_type": "code",
   "execution_count": null,
   "id": "2336c7b4",
   "metadata": {},
   "outputs": [],
   "source": [
    "%pip install tensorflow_hub\n",
    "import tensorflow_hub as hub"
   ]
  },
  {
   "cell_type": "code",
   "execution_count": null,
   "id": "08627a8c",
   "metadata": {},
   "outputs": [],
   "source": [
    "# Monter Google Drive\n",
    "drive.mount('/content/drive')"
   ]
  },
  {
   "cell_type": "code",
   "execution_count": null,
   "id": "e882a9fe",
   "metadata": {},
   "outputs": [],
   "source": [
    "# Chargement du modèle de détection\n",
    "print(\"Chargement du modèle de détection...\")\n",
    "detector = hub.load(\"https://tfhub.dev/tensorflow/ssd_mobilenet_v2/fpnlite_320x320/1\")"
   ]
  },
  {
   "cell_type": "code",
   "execution_count": null,
   "id": "a4b8f919",
   "metadata": {},
   "outputs": [],
   "source": [
    "# Chargement des noms de classes\n",
    "classe = np.array([\n",
    "    'background', 'person', 'bicycle', 'car', 'motorcycle', 'airplane',\n",
    "    'bus', 'train', 'truck', 'boat', 'traffic light', 'fire hydrant',\n",
    "    'stop sign', 'parking meter', 'bench', 'bird', 'cat', 'dog', 'horse',\n",
    "    'sheep', 'cow', 'elephant', 'bear', 'zebra', 'giraffe', 'backpack',\n",
    "    'umbrella', 'handbag', 'tie', 'suitcase', 'frisbee', 'skis',\n",
    "    'snowboard', 'sports ball', 'kite', 'baseball bat', 'baseball glove',\n",
    "    'skateboard', 'surfboard', 'tennis racket', 'bottle', 'wine glass',\n",
    "    'cup', 'fork', 'knife', 'spoon', 'bowl', 'banana', 'apple',\n",
    "    'sandwich', 'orange', 'broccoli', 'carrot', 'hot dog', 'pizza',\n",
    "    'donut', 'cake', 'chair', 'couch', 'potted plant', 'bed',\n",
    "    'dining table', 'toilet', 'tv', 'laptop', 'mouse', 'remote',\n",
    "    'keyboard', 'cell phone', 'microwave', 'oven', 'toaster', 'sink',\n",
    "    'refrigerator', 'book', 'clock', 'vase', 'scissors', 'teddy bear',\n",
    "    'hair drier', 'toothbrush'])\n",
    "classes = np.concatenate([classe, np.repeat('none', 100)])"
   ]
  },
  {
   "cell_type": "code",
   "execution_count": null,
   "id": "d8e99e9a",
   "metadata": {},
   "outputs": [],
   "source": [
    "# Dossier contenant les images à traiter\n",
    "dossier_images = \"/content/drive/MyDrive/Colab Notebooks/images\"\n",
    "image_files = [f for f in os.listdir(dossier_images) if f.lower().endswith(('.jpg', '.jpeg', '.png'))]\n"
   ]
  },
  {
   "cell_type": "code",
   "execution_count": null,
   "id": "4fb914fb",
   "metadata": {},
   "outputs": [],
   "source": [
    "# Stockage des résultats\n",
    "detection_results = []"
   ]
  },
  {
   "cell_type": "code",
   "execution_count": null,
   "id": "fd774df2",
   "metadata": {},
   "outputs": [],
   "source": [
    "# Traitement par lot des images\n",
    "for filename in image_files:\n",
    "    path = os.path.join(dossier_images, filename)\n",
    "    image = cv2.imread(path)\n",
    "    image = cv2.cvtColor(image, cv2.COLOR_BGR2RGB)"
   ]
  },
  {
   "cell_type": "code",
   "execution_count": null,
   "id": "819216bc",
   "metadata": {},
   "outputs": [],
   "source": [
    "image = cv2.imread(path)\n",
    "image = cv2.cvtColor(image, cv2.COLOR_BGR2RGB)"
   ]
  },
  {
   "cell_type": "code",
   "execution_count": null,
   "id": "1b03f742",
   "metadata": {},
   "outputs": [],
   "source": [
    "input_tensor = tf.convert_to_tensor(image)\n",
    "input_tensor = input_tensor[tf.newaxis, ...]\n",
    "detections = detector(input_tensor)"
   ]
  },
  {
   "cell_type": "code",
   "execution_count": null,
   "id": "fc5d6dcc",
   "metadata": {},
   "outputs": [],
   "source": [
    "height, width, _ = image.shape\n",
    "\n",
    "for i in range(len(scores)):\n",
    "    if scores[i] < 0.3:\n",
    "        continue\n",
    "\n",
    "        box = boxes[i] * np.array([height, width, height, width])\n",
    "        box = box.astype(np.int32)\n",
    "               \n",
    "        # Ajouter au DataFrame\n",
    "        detection_results.append({\n",
    "            \"image\": filename,\n",
    "            \"label\": classes[labels[i]],\n",
    "            \"score\": scores[i],\n",
    "            \"box\": box.tolist()\n",
    "        })\n",
    "        \n",
    "        # Dessiner la boîte englobante sur l'image\n",
    "        cv2.rectangle(image, (box[1], box[0]), (box[3], box[2]), (0, 255, 0), 2)\n",
    "        plt.text(box[1], box[0] - 10, f\"{classes[labels[i]]} : {scores[i]*100:.2f}%%\", color='red')\n",
    "\n",
    "    plt.figure(figsize=(6, 6))\n",
    "    plt.imshow(image)\n",
    "    plt.title(f\"Détections : {filename}\")\n",
    "    plt.axis('off')\n",
    "    plt.show()"
   ]
  },
  {
   "cell_type": "code",
   "execution_count": null,
   "id": "72f1b276",
   "metadata": {},
   "outputs": [],
   "source": [
    "# Création du DataFrame avec les détections\n",
    "df_detections = pd.DataFrame(detection_results)\n",
    "print(df_detections.head())"
   ]
  },
  {
   "cell_type": "code",
   "execution_count": null,
   "id": "ff4d48c9",
   "metadata": {},
   "outputs": [],
   "source": [
    "# Enregistrer en CSV\n",
    "df_detections.to_csv(\"/content/drive/MyDrive/detection_results.csv\", index=False)\n",
    "print(\"CSV enregistré sur Google Drive.\")"
   ]
  },
  {
   "cell_type": "code",
   "execution_count": null,
   "id": "36966c63",
   "metadata": {},
   "outputs": [],
   "source": [
    "# Classification avec ViT pour toutes les images\n",
    "!pip install transformers\n",
    "from transformers import ViTImageProcessor, ViTForImageClassification\n",
    "from PIL import Image as PILImage\n",
    "\n",
    "processor = ViTImageProcessor.from_pretrained('google/vit-base-patch16-224')\n",
    "model = ViTForImageClassification.from_pretrained('google/vit-base-patch16-224')\n",
    "\n",
    "vit_results = []\n",
    "\n",
    "for filename in image_files:\n",
    "    image_path = os.path.join(dossier_images, filename)\n",
    "    image_pil = PILImage.open(image_path)\n",
    "\n",
    "    inputs = processor(images=image_pil, return_tensors=\"pt\")\n",
    "    outputs = model(**inputs)\n",
    "    logits = outputs.logits\n",
    "    predicted_class_idx = logits.argmax(-1).item()\n",
    "    label = model.config.id2label[predicted_class_idx]\n",
    "\n",
    "    vit_results.append({\"image\": filename, \"ViT_label\": label})\n",
    "\n",
    "    # Affichage\n",
    "    plt.imshow(image_pil)\n",
    "    plt.axis('off')\n",
    "    plt.title(f\"ViT: {label}\")\n",
    "    plt.show()"
   ]
  },
  {
   "cell_type": "code",
   "execution_count": null,
   "id": "c8135b9f",
   "metadata": {},
   "outputs": [],
   "source": [
    "# Enregistrement des prédictions ViT\n",
    "df_vit = pd.DataFrame(vit_results)\n",
    "df_vit.to_csv(\"/content/drive/MyDrive/vit_classification_results.csv\", index=False)\n",
    "print(\"Résultats ViT enregistrés sur Google Drive.\")"
   ]
  }
 ],
 "metadata": {
  "language_info": {
   "name": "python"
  }
 },
 "nbformat": 4,
 "nbformat_minor": 5
}
