{
 "cells": [
  {
   "cell_type": "code",
   "execution_count": null,
   "id": "1d2e799e",
   "metadata": {},
   "outputs": [],
   "source": [
    "#Monter Google Drive\n",
    "from google.colab import drive\n",
    "drive.mount('/content/drive')"
   ]
  },
  {
   "cell_type": "code",
   "execution_count": null,
   "id": "69f26d37",
   "metadata": {},
   "outputs": [],
   "source": [
    "!pip install opencv-python\n",
    "!pip install tensorflow_hub"
   ]
  },
  {
   "cell_type": "code",
   "execution_count": null,
   "id": "a87439cc",
   "metadata": {},
   "outputs": [],
   "source": [
    "import os\n",
    "import numpy as np\n",
    "import tensorflow as tf\n",
    "import cv2\n",
    "import matplotlib.pyplot as plt\n",
    "import tensorflow_hub as hub"
   ]
  },
  {
   "cell_type": "code",
   "execution_count": null,
   "id": "08e604ac",
   "metadata": {},
   "outputs": [],
   "source": [
    "# Charger le modèle de détection SSD MobileNet V2\n",
    "detector = hub.load(\"https://tfhub.dev/tensorflow/ssd_mobilenet_v2/fpnlite_320x320/1\")"
   ]
  },
  {
   "cell_type": "code",
   "execution_count": null,
   "id": "ee26f213",
   "metadata": {},
   "outputs": [],
   "source": [
    "# Liste des noms de classes (80 classes COCO)\n",
    "classe = np.array([\n",
    "    'background', 'person', 'bicycle', 'car', 'motorcycle', 'airplane',\n",
    "    'bus', 'train', 'truck', 'boat', 'traffic light', 'fire hydrant',\n",
    "    'stop sign', 'parking meter', 'bench', 'bird', 'cat', 'dog', 'horse',\n",
    "    'sheep', 'cow', 'elephant', 'bear', 'zebra', 'giraffe', 'backpack',\n",
    "    'umbrella', 'handbag', 'tie', 'suitcase', 'frisbee', 'skis',\n",
    "    'snowboard', 'sports ball', 'kite', 'baseball bat', 'baseball glove',\n",
    "    'skateboard', 'surfboard', 'tennis racket', 'bottle', 'wine glass',\n",
    "    'cup', 'fork', 'knife', 'spoon', 'bowl', 'banana', 'apple',\n",
    "    'sandwich', 'orange', 'broccoli', 'carrot', 'hot dog', 'pizza',\n",
    "    'donut', 'cake', 'chair', 'couch', 'potted plant', 'bed',\n",
    "    'dining table', 'toilet', 'tv', 'laptop', 'mouse', 'remote',\n",
    "    'keyboard', 'cell phone', 'microwave', 'oven', 'toaster', 'sink',\n",
    "    'refrigerator', 'book', 'clock', 'vase', 'scissors', 'teddy bear',\n",
    "    'hair drier', 'toothbrush'\n",
    "])\n",
    "classes = np.concatenate([classe, np.repeat('none', 100)])\n"
   ]
  },
  {
   "cell_type": "code",
   "execution_count": null,
   "id": "f5f91afd",
   "metadata": {},
   "outputs": [],
   "source": [
    "# 🔁 À adapter : ton dossier avec des images dans Google Drive\n",
    "folder_path = \"/content/drive/MyDrive/Colab_Notebooks/images\"  # ← change ça"
   ]
  },
  {
   "cell_type": "code",
   "execution_count": null,
   "id": "645d54fa",
   "metadata": {},
   "outputs": [],
   "source": [
    "def process_local_image(image_path):\n",
    "    image = cv2.imread(image_path)\n",
    "    if image is None:\n",
    "        print(f\"Erreur de lecture : {image_path}\")\n",
    "        return\n",
    "    image_rgb = cv2.cvtColor(image, cv2.COLOR_BGR2RGB)\n",
    "    input_tensor = tf.convert_to_tensor(image_rgb)[tf.newaxis, ...]\n",
    "\n",
    "    detections = detector(input_tensor)\n",
    "    boxes = detections['detection_boxes'][0].numpy()\n",
    "    scores = detections['detection_scores'][0].numpy()\n",
    "    classes_detected = detections['detection_classes'][0].numpy().astype(np.uint8)\n",
    "\n",
    "    height, width, _ = image.shape\n",
    "    for i in range(len(scores)):\n",
    "        if scores[i] < 0.3:\n",
    "            continue\n",
    "        box = boxes[i] * np.array([height, width, height, width])\n",
    "        box = box.astype(np.int32)\n",
    "        cv2.rectangle(image_rgb, (box[1], box[0]), (box[3], box[2]), (0, 255, 0), 2)\n",
    "        label = f\"{classes[classes_detected[i]]}: {scores[i]*100:.1f}%\"\n",
    "        cv2.putText(image_rgb, label, (box[1], box[0]-10), cv2.FONT_HERSHEY_SIMPLEX, 0.5, (255, 0, 0), 2)\n",
    "\n",
    "    plt.figure(figsize=(8, 6))\n",
    "    plt.imshow(image_rgb)\n",
    "    plt.axis('off')\n",
    "    plt.title(f\"Détection : {os.path.basename(image_path)}\")\n",
    "    plt.show()\n"
   ]
  },
  {
   "cell_type": "code",
   "execution_count": null,
   "id": "18b67aa6",
   "metadata": {},
   "outputs": [],
   "source": [
    "supported_formats = ('.jpg', '.jpeg', '.png', '.bmp')\n",
    "image_files = [os.path.join(folder_path, f) for f in os.listdir(folder_path) if f.lower().endswith(supported_formats)]\n",
    "\n",
    "print(f\"{len(image_files)} images trouvées dans le dossier.\")\n",
    "\n",
    "for image_path in image_files:\n",
    "    process_local_image(image_path)\n"
   ]
  }
 ],
 "metadata": {
  "language_info": {
   "name": "python"
  }
 },
 "nbformat": 4,
 "nbformat_minor": 5
}
